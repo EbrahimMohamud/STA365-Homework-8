{
 "cells": [
  {
   "cell_type": "markdown",
   "id": "5d133355",
   "metadata": {},
   "source": [
    "## Week 10 Homework\n",
    "\n",
    "---\n",
    "\n",
    "### Q1: perform Bayesian Logistic Regression \n",
    "\n",
    "- For a binary outcome dataset you find interesting (perhaps from kaggle.com?)\n",
    "- Model the outcome as a bernoulli random variable and use a **logit link** function\n",
    "- Use `pm.Normal('betas', mu=0, sigma=1, shape=p)` rather than the `pm.MvNormal` version\n",
    "- Provide inference with Bayesian posterior analysis and report MCMC diagnostics"
   ]
  },
  {
   "cell_type": "code",
   "execution_count": 6,
   "id": "1e66a6e8",
   "metadata": {},
   "outputs": [],
   "source": [
    "import pandas as pd\n",
    "import numpy as np\n",
    "import pymc as pm\n",
    "import arviz as az\n",
    "\n",
    "df = pd.read_csv(\"diabetes.csv\")  # Import dataset\n",
    "df.head()                         # Inital Reading \n",
    "\n",
    "predictors = [\"Glucose\", \"BMI\", \"BloodPressure\"] # Predictors\n",
    "X = df[predictors].values\n",
    "y = df[\"Outcome\"].values  # 0/1\n",
    "\n",
    "X = np.column_stack([np.ones(len(X)), X]) # Add Column of 1's "
   ]
  },
  {
   "cell_type": "code",
   "execution_count": 19,
   "id": "95ccbeae",
   "metadata": {},
   "outputs": [
    {
     "name": "stderr",
     "output_type": "stream",
     "text": [
      "/opt/conda/lib/python3.11/site-packages/pymc/model/core.py:560: FutureWarning: Model.model property is deprecated. Just use Model.\n",
      "  warnings.warn(\"Model.model property is deprecated. Just use Model.\", FutureWarning)\n",
      "Auto-assigning NUTS sampler...\n",
      "Initializing NUTS using jitter+adapt_diag...\n",
      "Multiprocess sampling (4 chains in 4 jobs)\n",
      "NUTS: [betas]\n"
     ]
    },
    {
     "data": {
      "text/html": [
       "\n",
       "<style>\n",
       "    /* Turns off some styling */\n",
       "    progress {\n",
       "        /* gets rid of default border in Firefox and Opera. */\n",
       "        border: none;\n",
       "        /* Needs to be in here for Safari polyfill so background images work as expected. */\n",
       "        background-size: auto;\n",
       "    }\n",
       "    progress:not([value]), progress:not([value])::-webkit-progress-bar {\n",
       "        background: repeating-linear-gradient(45deg, #7e7e7e, #7e7e7e 10px, #5c5c5c 10px, #5c5c5c 20px);\n",
       "    }\n",
       "    .progress-bar-interrupted, .progress-bar-interrupted::-webkit-progress-bar {\n",
       "        background: #F44336;\n",
       "    }\n",
       "</style>\n"
      ],
      "text/plain": [
       "<IPython.core.display.HTML object>"
      ]
     },
     "metadata": {},
     "output_type": "display_data"
    },
    {
     "data": {
      "text/html": [
       "\n",
       "    <div>\n",
       "      <progress value='24000' class='' max='24000' style='width:300px; height:20px; vertical-align: middle;'></progress>\n",
       "      100.00% [24000/24000 01:27&lt;00:00 Sampling 4 chains, 6,000 divergences]\n",
       "    </div>\n",
       "    "
      ],
      "text/plain": [
       "<IPython.core.display.HTML object>"
      ]
     },
     "metadata": {},
     "output_type": "display_data"
    },
    {
     "name": "stderr",
     "output_type": "stream",
     "text": [
      "Sampling 4 chains for 3_000 tune and 3_000 draw iterations (12_000 + 12_000 draws total) took 88 seconds.\n",
      "The rhat statistic is larger than 1.01 for some parameters. This indicates problems during sampling. See https://arxiv.org/abs/1903.08008 for details\n",
      "The effective sample size per chain is smaller than 100 for some parameters.  A higher number is needed for reliable rhat and ess computation. See https://arxiv.org/abs/1903.08008 for details\n",
      "There were 6000 divergences after tuning. Increase `target_accept` or reparameterize.\n"
     ]
    }
   ],
   "source": [
    "with pm.Model() as GLM:\n",
    "    \n",
    "    p = X.shape[1] # Number of columns in X (including intercept)\n",
    "    \n",
    "    betas = pm.Normal('betas', mu=0, sigma=1, shape=p) # Prior on Beta\n",
    "    \n",
    "    invlink = pm.math.sigmoid(X@betas) # inverse link\n",
    "    \n",
    "    model = pm.Bernoulli('model', p=invlink, observed=y) # Bernoulli likelihood\n",
    "    \n",
    "with GLM:\n",
    "    idata = pm.sample(\n",
    "        draws=3000,\n",
    "        tune=3000,\n",
    "        chains=4,         # Usually 4 chains is good\n",
    "        target_accept=0.95,\n",
    "        random_seed=42\n",
    "    )"
   ]
  },
  {
   "cell_type": "code",
   "execution_count": 20,
   "id": "5c0e39b2",
   "metadata": {},
   "outputs": [
    {
     "name": "stderr",
     "output_type": "stream",
     "text": [
      "/opt/conda/lib/python3.11/site-packages/arviz/stats/density_utils.py:488: UserWarning: Your data appears to have a single value or no finite values\n",
      "  warnings.warn(\"Your data appears to have a single value or no finite values\")\n"
     ]
    },
    {
     "data": {
      "text/html": [
       "<div>\n",
       "<style scoped>\n",
       "    .dataframe tbody tr th:only-of-type {\n",
       "        vertical-align: middle;\n",
       "    }\n",
       "\n",
       "    .dataframe tbody tr th {\n",
       "        vertical-align: top;\n",
       "    }\n",
       "\n",
       "    .dataframe thead th {\n",
       "        text-align: right;\n",
       "    }\n",
       "</style>\n",
       "<table border=\"1\" class=\"dataframe\">\n",
       "  <thead>\n",
       "    <tr style=\"text-align: right;\">\n",
       "      <th></th>\n",
       "      <th>mean</th>\n",
       "      <th>sd</th>\n",
       "      <th>hdi_3%</th>\n",
       "      <th>hdi_97%</th>\n",
       "      <th>mcse_mean</th>\n",
       "      <th>mcse_sd</th>\n",
       "      <th>ess_bulk</th>\n",
       "      <th>ess_tail</th>\n",
       "      <th>r_hat</th>\n",
       "    </tr>\n",
       "  </thead>\n",
       "  <tbody>\n",
       "    <tr>\n",
       "      <th>betas[0]</th>\n",
       "      <td>0.143</td>\n",
       "      <td>0.132</td>\n",
       "      <td>0.011</td>\n",
       "      <td>0.308</td>\n",
       "      <td>0.066</td>\n",
       "      <td>0.012</td>\n",
       "      <td>5.0</td>\n",
       "      <td>116.0</td>\n",
       "      <td>3.41</td>\n",
       "    </tr>\n",
       "    <tr>\n",
       "      <th>betas[1]</th>\n",
       "      <td>0.049</td>\n",
       "      <td>0.507</td>\n",
       "      <td>-0.612</td>\n",
       "      <td>0.813</td>\n",
       "      <td>0.253</td>\n",
       "      <td>0.128</td>\n",
       "      <td>4.0</td>\n",
       "      <td>4.0</td>\n",
       "      <td>3.41</td>\n",
       "    </tr>\n",
       "    <tr>\n",
       "      <th>betas[2]</th>\n",
       "      <td>-0.163</td>\n",
       "      <td>0.460</td>\n",
       "      <td>-0.919</td>\n",
       "      <td>0.326</td>\n",
       "      <td>0.230</td>\n",
       "      <td>0.123</td>\n",
       "      <td>4.0</td>\n",
       "      <td>4.0</td>\n",
       "      <td>3.41</td>\n",
       "    </tr>\n",
       "  </tbody>\n",
       "</table>\n",
       "</div>"
      ],
      "text/plain": [
       "           mean     sd  hdi_3%  hdi_97%  mcse_mean  mcse_sd  ess_bulk  \\\n",
       "betas[0]  0.143  0.132   0.011    0.308      0.066    0.012       5.0   \n",
       "betas[1]  0.049  0.507  -0.612    0.813      0.253    0.128       4.0   \n",
       "betas[2] -0.163  0.460  -0.919    0.326      0.230    0.123       4.0   \n",
       "\n",
       "          ess_tail  r_hat  \n",
       "betas[0]     116.0   3.41  \n",
       "betas[1]       4.0   3.41  \n",
       "betas[2]       4.0   3.41  "
      ]
     },
     "execution_count": 20,
     "metadata": {},
     "output_type": "execute_result"
    },
    {
     "data": {
      "image/png": "[encoded data removed]",
      "text/plain": [
       "<Figure size 1200x200 with 2 Axes>"
      ]
     },
     "metadata": {},
     "output_type": "display_data"
    }
   ],
   "source": [
    "az.summary(idata, var_names=['betas'])      # Posterior summaries\n",
    "az.plot_trace(idata, var_names=['betas'])   # Trace + distribution plots\n",
    "az.summary(idata)"
   ]
  },
  {
   "attachments": {},
   "cell_type": "markdown",
   "id": "26f8e838",
   "metadata": {},
   "source": [
    "### Q2: perform Bayesian Multivariate Regression\n",
    "\n",
    "- For a data set for which modeling multiple continuous outcomes might be interesting (perhaps from kaggle.com?)\n",
    "- Use `pm.Normal('betas', mu=0, sigma=1, shape=(p,m))` rather than a `pm.MvNormal` alternative\n",
    "- Use `y = pm.MvNormal('y', mu=X@betas, chol=L, observed=x)` for `(n,m)` shaped `y` and `(n,p)` shaped `X`\n",
    "- Downsample your dataset to tentatively explore the effect of different values of `n`,`m`,`p` and \n",
    "    - report on your findings and based on that \n",
    "    - choose a \"reasonably small\" sized data set to perform an actual analysis\n",
    "- Provide inference with Bayesian posterior analysis and report MCMC diagnostics"
   ]
  },
  {
   "cell_type": "code",
   "execution_count": null,
   "id": "ee1acb7b",
   "metadata": {},
   "outputs": [
    {
     "name": "stdout",
     "output_type": "stream",
     "text": [
      "\n",
      "--- Fitting model for n=100 (p=4, m=3) ---\n"
     ]
    },
    {
     "name": "stderr",
     "output_type": "stream",
     "text": [
      "Auto-assigning NUTS sampler...\n",
      "Initializing NUTS using jitter+adapt_diag...\n",
      "Multiprocess sampling (4 chains in 4 jobs)\n",
      "NUTS: [packed_L, betas]\n"
     ]
    },
    {
     "data": {
      "text/html": [
       "\n",
       "<style>\n",
       "    /* Turns off some styling */\n",
       "    progress {\n",
       "        /* gets rid of default border in Firefox and Opera. */\n",
       "        border: none;\n",
       "        /* Needs to be in here for Safari polyfill so background images work as expected. */\n",
       "        background-size: auto;\n",
       "    }\n",
       "    progress:not([value]), progress:not([value])::-webkit-progress-bar {\n",
       "        background: repeating-linear-gradient(45deg, #7e7e7e, #7e7e7e 10px, #5c5c5c 10px, #5c5c5c 20px);\n",
       "    }\n",
       "    .progress-bar-interrupted, .progress-bar-interrupted::-webkit-progress-bar {\n",
       "        background: #F44336;\n",
       "    }\n",
       "</style>\n"
      ],
      "text/plain": [
       "<IPython.core.display.HTML object>"
      ]
     },
     "metadata": {},
     "output_type": "display_data"
    },
    {
     "data": {
      "text/html": [
       "\n",
       "    <div>\n",
       "      <progress value='8000' class='' max='8000' style='width:300px; height:20px; vertical-align: middle;'></progress>\n",
       "      100.00% [8000/8000 57:58&lt;00:00 Sampling 4 chains, 0 divergences]\n",
       "    </div>\n",
       "    "
      ],
      "text/plain": [
       "<IPython.core.display.HTML object>"
      ]
     },
     "metadata": {},
     "output_type": "display_data"
    },
    {
     "name": "stderr",
     "output_type": "stream",
     "text": [
      "/opt/conda/lib/python3.11/site-packages/pytensor/compile/function/types.py:970: RuntimeWarning: invalid value encountered in accumulate\n",
      "  self.vm()\n",
      "Sampling 4 chains for 1_000 tune and 1_000 draw iterations (4_000 + 4_000 draws total) took 3479 seconds.\n",
      "The rhat statistic is larger than 1.01 for some parameters. This indicates problems during sampling. See https://arxiv.org/abs/1903.08008 for details\n",
      "The effective sample size per chain is smaller than 100 for some parameters.  A higher number is needed for reliable rhat and ess computation. See https://arxiv.org/abs/1903.08008 for details\n",
      "Chain 2 reached the maximum tree depth. Increase `max_treedepth`, increase `target_accept` or reparameterize.\n",
      "Chain 3 reached the maximum tree depth. Increase `max_treedepth`, increase `target_accept` or reparameterize.\n"
     ]
    },
    {
     "name": "stdout",
     "output_type": "stream",
     "text": [
      "\n",
      "--- Fitting model for n=300 (p=4, m=3) ---\n"
     ]
    },
    {
     "name": "stderr",
     "output_type": "stream",
     "text": [
      "Auto-assigning NUTS sampler...\n",
      "Initializing NUTS using jitter+adapt_diag...\n",
      "Multiprocess sampling (4 chains in 4 jobs)\n",
      "NUTS: [packed_L, betas]\n"
     ]
    },
    {
     "data": {
      "text/html": [
       "\n",
       "<style>\n",
       "    /* Turns off some styling */\n",
       "    progress {\n",
       "        /* gets rid of default border in Firefox and Opera. */\n",
       "        border: none;\n",
       "        /* Needs to be in here for Safari polyfill so background images work as expected. */\n",
       "        background-size: auto;\n",
       "    }\n",
       "    progress:not([value]), progress:not([value])::-webkit-progress-bar {\n",
       "        background: repeating-linear-gradient(45deg, #7e7e7e, #7e7e7e 10px, #5c5c5c 10px, #5c5c5c 20px);\n",
       "    }\n",
       "    .progress-bar-interrupted, .progress-bar-interrupted::-webkit-progress-bar {\n",
       "        background: #F44336;\n",
       "    }\n",
       "</style>\n"
      ],
      "text/plain": [
       "<IPython.core.display.HTML object>"
      ]
     },
     "metadata": {},
     "output_type": "display_data"
    },
    {
     "data": {
      "text/html": [
       "\n",
       "    <div>\n",
       "      <progress value='7028' class='' max='8000' style='width:300px; height:20px; vertical-align: middle;'></progress>\n",
       "      87.85% [7028/8000 52:34&lt;07:16 Sampling 4 chains, 0 divergences]\n",
       "    </div>\n",
       "    "
      ],
      "text/plain": [
       "<IPython.core.display.HTML object>"
      ]
     },
     "metadata": {},
     "output_type": "display_data"
    },
    {
     "name": "stderr",
     "output_type": "stream",
     "text": [
      "/opt/conda/lib/python3.11/site-packages/pytensor/compile/function/types.py:970: RuntimeWarning: invalid value encountered in accumulate\n",
      "  self.vm()\n",
      "/opt/conda/lib/python3.11/site-packages/pytensor/compile/function/types.py:970: RuntimeWarning: invalid value encountered in accumulate\n",
      "  self.vm()\n"
     ]
    }
   ],
   "source": [
    "import numpy as np\n",
    "import pandas as pd\n",
    "import pymc as pm\n",
    "import arviz as az\n",
    "\n",
    "# -----------------------------------------------------------\n",
    "# 1. Load and Prepare Data\n",
    "# -----------------------------------------------------------\n",
    "df = pd.read_csv(\"Life Expectancy Data.csv\")\n",
    "# Drop missing rows in columns of interest\n",
    "df = df.dropna(subset=[\n",
    "    \"percentage expenditure\", \" BMI \", \"Schooling\", \"Population\",\n",
    "    \"Life expectancy \", \"Adult Mortality\", \"infant deaths\"\n",
    "])\n",
    "\n",
    "# Define predictor and outcome columns\n",
    "predictors = [\"percentage expenditure\", \" BMI \", \"Schooling\", \"Population\"]\n",
    "outcomes   = [\"Life expectancy \", \"Adult Mortality\", \"infant deaths\"]\n",
    "\n",
    "# Convert to NumPy arrays\n",
    "X_full = df[predictors].values\n",
    "y_full = df[outcomes].values\n",
    "\n",
    "# The full dataset size\n",
    "n_full = X_full.shape[0]\n",
    "\n",
    "# -----------------------------------------------------------\n",
    "# 2. Choose Three n-values: small, medium, and full\n",
    "# -----------------------------------------------------------\n",
    "# For example, let's say small ~ 100 rows, medium ~ 300 rows, and full\n",
    "n_values = [100, 300, n_full]\n",
    "\n",
    "# We'll store the InferenceData objects in a dictionary for easy reference\n",
    "idata_dict = {}\n",
    "\n",
    "# -----------------------------------------------------------\n",
    "# 3. Loop Over Each n and Run the Model\n",
    "# -----------------------------------------------------------\n",
    "for n in n_values:\n",
    "    # Truncate or sample the dataset to n rows\n",
    "    # Here, we sample for variety; you could also do df.head(n) if you prefer\n",
    "    df_trunc = df.sample(n=n, random_state=42)\n",
    "\n",
    "    # Prepare arrays for this subset\n",
    "    X_data = df_trunc[predictors].values\n",
    "    y_data = df_trunc[outcomes].values\n",
    "\n",
    "    # Get shapes\n",
    "    n_rows, p = X_data.shape\n",
    "    m = 3\n",
    "\n",
    "    print(f\"\\n--- Fitting model for n={n_rows} (p={p}, m={m}) ---\")\n",
    "\n",
    "    with pm.Model() as multivariate_model:\n",
    "        # 1) LKJ Cholesky prior for covariance\n",
    "        packed_L = pm.LKJCholeskyCov(\n",
    "            \"packed_L\",\n",
    "            n=m,\n",
    "            eta=2.0,\n",
    "            sd_dist=pm.Exponential.dist(1.0, shape=m),\n",
    "            compute_corr=False\n",
    "        )\n",
    "        L = pm.expand_packed_triangular(m, packed_L)\n",
    "        \n",
    "        # 2) Regression coefficients: shape (p, m)\n",
    "        betas = pm.Normal(\"betas\", mu=0, sigma=1, shape=(p, m))\n",
    "        \n",
    "        # 3) Mean structure\n",
    "        mu = pm.math.dot(X_data, betas)\n",
    "        \n",
    "        # 4) Multivariate Normal likelihood\n",
    "        y_obs = pm.MvNormal(\"y_obs\", mu=mu, chol=L, observed=y_data)\n",
    "        \n",
    "        # 5) Sample\n",
    "        idata2 = pm.sample()\n",
    "    \n",
    "    # Store the results\n",
    "    idata_dict[f\"n={n_rows}\"] = idata\n",
    "\n",
    "    # Basic summary\n",
    "    summary_betas = az.summary(idata, var_names=[\"betas\"])\n",
    "    az.plot_trace(idata2, var_names=['betas'])"
   ]
  }
 ],
 "metadata": {
  "kernelspec": {
   "display_name": "Python 3 (ipykernel)",
   "language": "python",
   "name": "python3"
  },
  "language_info": {
   "codemirror_mode": {
    "name": "ipython",
    "version": 3
   },
   "file_extension": ".py",
   "mimetype": "text/x-python",
   "name": "python",
   "nbconvert_exporter": "python",
   "pygments_lexer": "ipython3",
   "version": "3.11.6"
  }
 },
 "nbformat": 4,
 "nbformat_minor": 5
}
